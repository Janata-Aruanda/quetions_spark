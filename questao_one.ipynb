{
  "nbformat": 4,
  "nbformat_minor": 0,
  "metadata": {
    "colab": {
      "provenance": []
    },
    "kernelspec": {
      "name": "python3",
      "display_name": "Python 3"
    },
    "language_info": {
      "name": "python"
    }
  },
  "cells": [
    {
      "cell_type": "code",
      "execution_count": 1,
      "metadata": {
        "colab": {
          "base_uri": "https://localhost:8080/"
        },
        "id": "iY2CDjG66mYW",
        "outputId": "da04c2b0-03e4-4f15-a76e-f84e9f3aefb7"
      },
      "outputs": [
        {
          "output_type": "stream",
          "name": "stdout",
          "text": [
            "\u001b[33m\r0% [Working]\u001b[0m\r            \rGet:1 https://cloud.r-project.org/bin/linux/ubuntu jammy-cran40/ InRelease [3,626 B]\n",
            "\u001b[33m\r0% [Waiting for headers] [Waiting for headers] [1 InRelease 3,626 B/3,626 B 100\u001b[0m\u001b[33m\r0% [Waiting for headers] [Waiting for headers] [Waiting for headers] [Waiting f\u001b[0m\r                                                                               \rGet:2 http://security.ubuntu.com/ubuntu jammy-security InRelease [129 kB]\n",
            "\u001b[33m\r0% [Waiting for headers] [2 InRelease 14.2 kB/129 kB 11%] [Waiting for headers]\u001b[0m\r                                                                               \rHit:3 http://archive.ubuntu.com/ubuntu jammy InRelease\n",
            "\u001b[33m\r0% [Waiting for headers] [2 InRelease 14.2 kB/129 kB 11%] [Waiting for headers]\u001b[0m\r                                                                               \rHit:4 https://developer.download.nvidia.com/compute/cuda/repos/ubuntu2204/x86_64  InRelease\n",
            "Get:5 https://r2u.stat.illinois.edu/ubuntu jammy InRelease [6,555 B]\n",
            "Get:6 http://archive.ubuntu.com/ubuntu jammy-updates InRelease [128 kB]\n",
            "Hit:7 https://ppa.launchpadcontent.net/deadsnakes/ppa/ubuntu jammy InRelease\n",
            "Hit:8 https://ppa.launchpadcontent.net/graphics-drivers/ppa/ubuntu jammy InRelease\n",
            "Get:9 http://archive.ubuntu.com/ubuntu jammy-backports InRelease [127 kB]\n",
            "Hit:10 https://ppa.launchpadcontent.net/ubuntugis/ppa/ubuntu jammy InRelease\n",
            "Get:11 https://r2u.stat.illinois.edu/ubuntu jammy/main all Packages [8,566 kB]\n",
            "Get:12 https://r2u.stat.illinois.edu/ubuntu jammy/main amd64 Packages [2,631 kB]\n",
            "Get:13 http://security.ubuntu.com/ubuntu jammy-security/main amd64 Packages [2,517 kB]\n",
            "Get:14 http://security.ubuntu.com/ubuntu jammy-security/restricted amd64 Packages [3,448 kB]\n",
            "Get:15 http://security.ubuntu.com/ubuntu jammy-security/universe amd64 Packages [1,226 kB]\n",
            "Get:16 http://archive.ubuntu.com/ubuntu jammy-updates/main amd64 Packages [2,840 kB]\n",
            "Get:17 http://archive.ubuntu.com/ubuntu jammy-updates/universe amd64 Packages [1,517 kB]\n",
            "Get:18 http://archive.ubuntu.com/ubuntu jammy-updates/restricted amd64 Packages [3,633 kB]\n",
            "Get:19 http://archive.ubuntu.com/ubuntu jammy-backports/universe amd64 Packages [33.8 kB]\n",
            "Get:20 http://archive.ubuntu.com/ubuntu jammy-backports/main amd64 Packages [81.4 kB]\n",
            "Fetched 26.9 MB in 8s (3,203 kB/s)\n",
            "Reading package lists... Done\n",
            "Building dependency tree... Done\n",
            "Reading state information... Done\n",
            "50 packages can be upgraded. Run 'apt list --upgradable' to see them.\n",
            "\u001b[1;33mW: \u001b[0mSkipping acquire of configured file 'main/source/Sources' as repository 'https://r2u.stat.illinois.edu/ubuntu jammy InRelease' does not seem to provide it (sources.list entry misspelt?)\u001b[0m\n",
            "Requirement already satisfied: pyspark in /usr/local/lib/python3.10/dist-packages (3.5.3)\n",
            "Requirement already satisfied: py4j==0.10.9.7 in /usr/local/lib/python3.10/dist-packages (from pyspark) (0.10.9.7)\n",
            "Requirement already satisfied: py4j in /usr/local/lib/python3.10/dist-packages (0.10.9.7)\n"
          ]
        }
      ],
      "source": [
        "!sudo apt update\n",
        "!apt-get install openjdk-8-jdk-headless -qq > /dev/null\n",
        "!wget -q https://dlcdn.apache.org/spark/spark-3.5.3/spark-3.5.3-bin-hadoop3.tgz\n",
        "!tar xf spark-3.5.3-bin-hadoop3.tgz\n",
        "!pip install -q findspark\n",
        "!pip install pyspark\n",
        "!pip install py4j"
      ]
    },
    {
      "cell_type": "code",
      "source": [
        "import os\n",
        "import sys\n",
        "import findspark\n",
        "os.environ[\"JAVA_HOME\"] = \"/usr/lib/jvm/java-8-openjdk-amd64\"\n",
        "os.environ[\"SPARK_HOME\"] = \"/content/spark-3.5.3-bin-hadoop3\"\n",
        "\n",
        "# tornar o pyspark \"importável\"\n",
        "findspark.init()\n",
        "findspark.find()"
      ],
      "metadata": {
        "colab": {
          "base_uri": "https://localhost:8080/",
          "height": 35
        },
        "id": "0akNYH3T7U4J",
        "outputId": "ed8e0681-399b-4af1-802b-0f9e2451221d"
      },
      "execution_count": 3,
      "outputs": [
        {
          "output_type": "execute_result",
          "data": {
            "text/plain": [
              "'/content/spark-3.5.3-bin-hadoop3'"
            ],
            "application/vnd.google.colaboratory.intrinsic+json": {
              "type": "string"
            }
          },
          "metadata": {},
          "execution_count": 3
        }
      ]
    },
    {
      "cell_type": "code",
      "source": [
        "from pyspark.sql import SparkSession\n",
        "\n",
        "spark = SparkSession.builder \\\n",
        "    .appName(\"Exemplo DataFrame\") \\\n",
        "    .getOrCreate()\n",
        "\n",
        "\n",
        "dados = [\n",
        "    (\"joe\", \"mango\", 2),\n",
        "    (\"kevin\", \"kiwi\", 2),\n",
        "    (\"joe\", \"banana\", 2),\n",
        "    (\"joe\", \"mango\", 3),\n",
        "    (\"kevin\", \"taco\", 2),\n",
        "    (\"kevin\", \"kiwi\", 2),\n",
        "    (\"joe\", \"apple\", 4),\n",
        "    (\"kevin\", \"taco\", 3),\n",
        "    (\"joe\", \"mango\", 1),\n",
        "    (\"kevin\", \"kiwi\", 3),\n",
        "    (\"joe\", \"banana\", 1),\n",
        "    (\"kevin\", \"peach\", 2)\n",
        "]\n",
        "\n",
        "\n",
        "colunas = \"nome\", \"item\", \"peso\"\n",
        "\n",
        "\n",
        "df = spark.createDataFrame(dados, schema=colunas)\n",
        "\n",
        "print(\"--- Dataframe Criado ---\")\n",
        "df.show()\n",
        "print('\\t')\n",
        "print(\"--- Schema do Dataframe ---\")\n",
        "df.printSchema()"
      ],
      "metadata": {
        "colab": {
          "base_uri": "https://localhost:8080/"
        },
        "id": "NBsGEWiE8AfI",
        "outputId": "0cfaebef-c59a-4a54-e2a6-097345303e38"
      },
      "execution_count": 35,
      "outputs": [
        {
          "output_type": "stream",
          "name": "stdout",
          "text": [
            "--- Dataframe Criado ---\n",
            "+-----+------+----+\n",
            "| nome|  item|peso|\n",
            "+-----+------+----+\n",
            "|  joe| mango|   2|\n",
            "|kevin|  kiwi|   2|\n",
            "|  joe|banana|   2|\n",
            "|  joe| mango|   3|\n",
            "|kevin|  taco|   2|\n",
            "|kevin|  kiwi|   2|\n",
            "|  joe| apple|   4|\n",
            "|kevin|  taco|   3|\n",
            "|  joe| mango|   1|\n",
            "|kevin|  kiwi|   3|\n",
            "|  joe|banana|   1|\n",
            "|kevin| peach|   2|\n",
            "+-----+------+----+\n",
            "\n",
            "\t\n",
            "--- Schema do Dataframe ---\n",
            "root\n",
            " |-- nome: string (nullable = true)\n",
            " |-- item: string (nullable = true)\n",
            " |-- peso: long (nullable = true)\n",
            "\n"
          ]
        }
      ]
    },
    {
      "cell_type": "code",
      "source": [
        "df.createOrReplaceTempView(\"registro\")\n"
      ],
      "metadata": {
        "id": "0inKMZTj8nDl"
      },
      "execution_count": 32,
      "outputs": []
    },
    {
      "cell_type": "code",
      "source": [
        "spark.sql(\"select * from registro\").show()"
      ],
      "metadata": {
        "colab": {
          "base_uri": "https://localhost:8080/"
        },
        "id": "1mLQWkohFL6b",
        "outputId": "6e2d4cad-d699-46e7-a6e2-afaa29412c7c"
      },
      "execution_count": 33,
      "outputs": [
        {
          "output_type": "stream",
          "name": "stdout",
          "text": [
            "+-----+------+----+\n",
            "| nome|  item|peso|\n",
            "+-----+------+----+\n",
            "|  joe| mango|   2|\n",
            "|kevin|  kiwi|   2|\n",
            "|  joe|banana|   2|\n",
            "|  joe| mango|   3|\n",
            "|kevin|  taco|   2|\n",
            "|kevin|  kiwi|   2|\n",
            "|  joe| apple|   4|\n",
            "|kevin|  taco|   3|\n",
            "|  joe| mango|   1|\n",
            "|kevin|  kiwi|   3|\n",
            "|  joe|banana|   1|\n",
            "|kevin| peach|   2|\n",
            "+-----+------+----+\n",
            "\n"
          ]
        }
      ]
    },
    {
      "cell_type": "code",
      "source": [
        "spark.sql(\"\"\"\n",
        "          SELECT nome, item, SUM(peso) AS peso_total\n",
        "            FROM registro\n",
        "          GROUP BY nome, item\n",
        "          ORDER BY nome\"\"\").show()"
      ],
      "metadata": {
        "colab": {
          "base_uri": "https://localhost:8080/"
        },
        "id": "PqK5Hm1eCmqx",
        "outputId": "422eba1c-218b-434e-d028-4ed60d2e9ce0"
      },
      "execution_count": 34,
      "outputs": [
        {
          "output_type": "stream",
          "name": "stdout",
          "text": [
            "+-----+------+----------+\n",
            "| nome|  item|peso_total|\n",
            "+-----+------+----------+\n",
            "|  joe| mango|         6|\n",
            "|  joe|banana|         3|\n",
            "|  joe| apple|         4|\n",
            "|kevin|  kiwi|         7|\n",
            "|kevin|  taco|         5|\n",
            "|kevin| peach|         2|\n",
            "+-----+------+----------+\n",
            "\n"
          ]
        }
      ]
    }
  ]
}